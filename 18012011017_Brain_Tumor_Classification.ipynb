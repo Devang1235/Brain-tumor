{
  "metadata": {
    "kernelspec": {
      "language": "python",
      "display_name": "Python 3",
      "name": "python3"
    },
    "language_info": {
      "pygments_lexer": "ipython3",
      "nbconvert_exporter": "python",
      "version": "3.6.4",
      "file_extension": ".py",
      "codemirror_mode": {
        "name": "ipython",
        "version": 3
      },
      "name": "python",
      "mimetype": "text/x-python"
    },
    "colab": {
      "name": "18012011017_Brain_Tumor_Classification.ipynb",
      "provenance": [],
      "collapsed_sections": []
    },
    "accelerator": "GPU"
  },
  "nbformat_minor": 0,
  "nbformat": 4,
  "cells": [
    {
      "cell_type": "markdown",
      "source": [
        "# Project Title : Brain tumor classification\n",
        "\n",
        "## Name: Devang Shakya\n",
        "\n",
        "## Enrollment: 18012011017\n",
        "\n",
        "## Batch: DL1"
      ],
      "metadata": {
        "id": "KyrJA47helfS"
      }
    },
    {
      "cell_type": "code",
      "source": [
        "from google.colab import drive\n",
        "drive.mount('/content/drive')"
      ],
      "metadata": {
        "id": "fLIQVA8mAPt5",
        "colab": {
          "base_uri": "https://localhost:8080/"
        },
        "outputId": "152fcf49-dfc2-47e3-95c8-15ab583eec10"
      },
      "execution_count": 2,
      "outputs": [
        {
          "output_type": "stream",
          "name": "stdout",
          "text": [
            "Mounted at /content/drive\n"
          ]
        }
      ]
    },
    {
      "cell_type": "code",
      "source": [
        "import numpy as np\n",
        "import pandas as pd\n",
        "\n",
        "import tensorflow \n",
        "from tensorflow.keras.models import Sequential\n",
        "from tensorflow.keras.layers import Conv2D\n",
        "from tensorflow.keras.layers import MaxPooling2D\n",
        "from tensorflow.keras.layers import Dense, BatchNormalization, Dropout, Flatten, Activation\n",
        "from tensorflow.keras.layers import Flatten\n",
        "from tensorflow.keras.applications.vgg16 import VGG16"
      ],
      "metadata": {
        "_uuid": "8f2839f25d086af736a60e9eeb907d3b93b6e0e5",
        "_cell_guid": "b1076dfc-b9ad-4769-8c92-a6c4dae69d19",
        "execution": {
          "iopub.status.busy": "2021-11-29T11:34:23.995132Z",
          "iopub.execute_input": "2021-11-29T11:34:23.995875Z",
          "iopub.status.idle": "2021-11-29T11:34:24.420304Z",
          "shell.execute_reply.started": "2021-11-29T11:34:23.995833Z",
          "shell.execute_reply": "2021-11-29T11:34:24.418374Z"
        },
        "trusted": true,
        "id": "-ED73fXE3dBE"
      },
      "execution_count": 3,
      "outputs": []
    },
    {
      "cell_type": "markdown",
      "source": [
        "## Classifier"
      ],
      "metadata": {
        "id": "mGUrDqc83dBR"
      }
    },
    {
      "cell_type": "code",
      "source": [
        "vgg = VGG16(weights=\"imagenet\", include_top=False, input_shape=(224,224,3))\n",
        "vgg.trainable = False"
      ],
      "metadata": {
        "id": "YcndXQAHE4Rw",
        "colab": {
          "base_uri": "https://localhost:8080/"
        },
        "outputId": "5b29477f-649c-4d2b-fe96-1f07bdf72411"
      },
      "execution_count": 4,
      "outputs": [
        {
          "output_type": "stream",
          "name": "stdout",
          "text": [
            "Downloading data from https://storage.googleapis.com/tensorflow/keras-applications/vgg16/vgg16_weights_tf_dim_ordering_tf_kernels_notop.h5\n",
            "58892288/58889256 [==============================] - 1s 0us/step\n",
            "58900480/58889256 [==============================] - 1s 0us/step\n"
          ]
        }
      ]
    },
    {
      "cell_type": "code",
      "source": [
        "classifier = Sequential([\n",
        "    vgg,\n",
        "    Dropout(0.25),\n",
        "    Flatten(),\n",
        "    BatchNormalization(),\n",
        "    Dense(units = 512, activation = \"relu\"),\n",
        "    BatchNormalization(),\n",
        "    Dropout(0.25),\n",
        "    Dense(units = 512, activation = \"relu\"),\n",
        "    BatchNormalization(),\n",
        "    Activation('relu'),\n",
        "    Dense(4, activation='softmax')\n",
        "]\n",
        ")"
      ],
      "metadata": {
        "execution": {
          "iopub.status.busy": "2021-11-29T11:34:31.976394Z",
          "iopub.execute_input": "2021-11-29T11:34:31.976751Z",
          "iopub.status.idle": "2021-11-29T11:34:31.986395Z",
          "shell.execute_reply.started": "2021-11-29T11:34:31.976709Z",
          "shell.execute_reply": "2021-11-29T11:34:31.985596Z"
        },
        "trusted": true,
        "id": "JNflt8nd3dBU"
      },
      "execution_count": 5,
      "outputs": []
    },
    {
      "cell_type": "markdown",
      "source": [
        "## Compilation"
      ],
      "metadata": {
        "id": "WzavKoRa3dBj"
      }
    },
    {
      "cell_type": "code",
      "source": [
        "classifier.compile(optimizer = \"adam\", loss = \"categorical_crossentropy\", metrics = [\"accuracy\"])"
      ],
      "metadata": {
        "execution": {
          "iopub.status.busy": "2021-11-29T11:34:51.368202Z",
          "iopub.execute_input": "2021-11-29T11:34:51.368729Z",
          "iopub.status.idle": "2021-11-29T11:34:51.383478Z",
          "shell.execute_reply.started": "2021-11-29T11:34:51.368691Z",
          "shell.execute_reply": "2021-11-29T11:34:51.382819Z"
        },
        "trusted": true,
        "id": "aKcvbKVp3dBj"
      },
      "execution_count": 6,
      "outputs": []
    },
    {
      "cell_type": "markdown",
      "source": [
        "### Image transformations"
      ],
      "metadata": {
        "id": "M2vdBZCv3dBk"
      }
    },
    {
      "cell_type": "code",
      "source": [
        "from tensorflow.keras.preprocessing.image import ImageDataGenerator"
      ],
      "metadata": {
        "execution": {
          "iopub.status.busy": "2021-11-29T11:34:53.462451Z",
          "iopub.execute_input": "2021-11-29T11:34:53.462999Z",
          "iopub.status.idle": "2021-11-29T11:34:53.467549Z",
          "shell.execute_reply.started": "2021-11-29T11:34:53.46296Z",
          "shell.execute_reply": "2021-11-29T11:34:53.466738Z"
        },
        "trusted": true,
        "id": "4-65w-aD3dBl"
      },
      "execution_count": 7,
      "outputs": []
    },
    {
      "cell_type": "code",
      "source": [
        "train_datagen = ImageDataGenerator(\n",
        "                                   rescale=1./255,\n",
        "                                   shear_range=0.2,\n",
        "                                   zoom_range=0.2,\n",
        "                                   horizontal_flip=True)"
      ],
      "metadata": {
        "execution": {
          "iopub.status.busy": "2021-11-29T11:34:56.933891Z",
          "iopub.execute_input": "2021-11-29T11:34:56.934472Z",
          "iopub.status.idle": "2021-11-29T11:34:56.938931Z",
          "shell.execute_reply.started": "2021-11-29T11:34:56.934433Z",
          "shell.execute_reply": "2021-11-29T11:34:56.937863Z"
        },
        "trusted": true,
        "id": "IU63Q9oh3dBn"
      },
      "execution_count": 8,
      "outputs": []
    },
    {
      "cell_type": "code",
      "source": [
        "test_datagen = ImageDataGenerator(rescale=1./255)"
      ],
      "metadata": {
        "execution": {
          "iopub.status.busy": "2021-11-29T11:34:59.056136Z",
          "iopub.execute_input": "2021-11-29T11:34:59.056404Z",
          "iopub.status.idle": "2021-11-29T11:34:59.061175Z",
          "shell.execute_reply.started": "2021-11-29T11:34:59.056373Z",
          "shell.execute_reply": "2021-11-29T11:34:59.060003Z"
        },
        "trusted": true,
        "id": "naLzjgOc3dBo"
      },
      "execution_count": 9,
      "outputs": []
    },
    {
      "cell_type": "markdown",
      "source": [
        "## Loading images"
      ],
      "metadata": {
        "id": "RmMCvcvy3dBp"
      }
    },
    {
      "cell_type": "code",
      "source": [
        "training_dataset = train_datagen.flow_from_directory('/content/drive/MyDrive/Deep learning2/Brain tumor/Training',\n",
        "                                                     target_size=(224, 224),\n",
        "                                                     batch_size=64,\n",
        "                                                     class_mode='categorical')"
      ],
      "metadata": {
        "execution": {
          "iopub.status.busy": "2021-11-29T11:39:32.641679Z",
          "iopub.execute_input": "2021-11-29T11:39:32.64199Z",
          "iopub.status.idle": "2021-11-29T11:39:32.766493Z",
          "shell.execute_reply.started": "2021-11-29T11:39:32.641955Z",
          "shell.execute_reply": "2021-11-29T11:39:32.765726Z"
        },
        "trusted": true,
        "id": "b2GxQ94c3dBq",
        "colab": {
          "base_uri": "https://localhost:8080/"
        },
        "outputId": "ae424f1e-8f8e-4cc3-c54f-aff8b5427f7e"
      },
      "execution_count": 10,
      "outputs": [
        {
          "output_type": "stream",
          "name": "stdout",
          "text": [
            "Found 2870 images belonging to 4 classes.\n"
          ]
        }
      ]
    },
    {
      "cell_type": "code",
      "source": [
        "testing_dataset = test_datagen.flow_from_directory('/content/drive/MyDrive/Deep learning2/Brain tumor/Testing',\n",
        "                                                   target_size=(224, 224),\n",
        "                                                   batch_size=64,\n",
        "                                                   class_mode='categorical')"
      ],
      "metadata": {
        "execution": {
          "iopub.status.busy": "2021-11-29T11:39:34.663106Z",
          "iopub.execute_input": "2021-11-29T11:39:34.663581Z",
          "iopub.status.idle": "2021-11-29T11:39:34.773386Z",
          "shell.execute_reply.started": "2021-11-29T11:39:34.663536Z",
          "shell.execute_reply": "2021-11-29T11:39:34.772667Z"
        },
        "trusted": true,
        "id": "IQ-aG84c3dBr",
        "colab": {
          "base_uri": "https://localhost:8080/"
        },
        "outputId": "6ce6daa6-7b17-42e2-926f-803b2d598093"
      },
      "execution_count": 11,
      "outputs": [
        {
          "output_type": "stream",
          "name": "stdout",
          "text": [
            "Found 394 images belonging to 4 classes.\n"
          ]
        }
      ]
    },
    {
      "cell_type": "markdown",
      "source": [
        "## Fitting the model with the supplied images"
      ],
      "metadata": {
        "id": "9izIRCb43dBs"
      }
    },
    {
      "cell_type": "code",
      "source": [
        "fitmodel = classifier.fit(training_dataset,\n",
        "               steps_per_epoch = 44,\n",
        "               epochs = 10)"
      ],
      "metadata": {
        "execution": {
          "iopub.status.busy": "2021-11-29T11:43:40.702601Z",
          "iopub.execute_input": "2021-11-29T11:43:40.702964Z",
          "iopub.status.idle": "2021-11-29T16:39:55.317388Z",
          "shell.execute_reply.started": "2021-11-29T11:43:40.702924Z",
          "shell.execute_reply": "2021-11-29T16:39:55.316695Z"
        },
        "trusted": true,
        "id": "Gpic0TvV3dBs",
        "colab": {
          "base_uri": "https://localhost:8080/"
        },
        "outputId": "16721b6d-daa2-4699-cad4-e42dff25dbb6"
      },
      "execution_count": 12,
      "outputs": [
        {
          "output_type": "stream",
          "name": "stdout",
          "text": [
            "Epoch 1/10\n",
            "44/44 [==============================] - 905s 20s/step - loss: 0.6924 - accuracy: 0.7356\n",
            "Epoch 2/10\n",
            "44/44 [==============================] - 55s 1s/step - loss: 0.3659 - accuracy: 0.8635\n",
            "Epoch 3/10\n",
            "44/44 [==============================] - 55s 1s/step - loss: 0.2882 - accuracy: 0.8870\n",
            "Epoch 4/10\n",
            "44/44 [==============================] - 55s 1s/step - loss: 0.2203 - accuracy: 0.9209\n",
            "Epoch 5/10\n",
            "44/44 [==============================] - 54s 1s/step - loss: 0.2008 - accuracy: 0.9241\n",
            "Epoch 6/10\n",
            "44/44 [==============================] - 55s 1s/step - loss: 0.1779 - accuracy: 0.9350\n",
            "Epoch 7/10\n",
            "44/44 [==============================] - 54s 1s/step - loss: 0.1662 - accuracy: 0.9387\n",
            "Epoch 8/10\n",
            "44/44 [==============================] - 55s 1s/step - loss: 0.1331 - accuracy: 0.9522\n",
            "Epoch 9/10\n",
            "44/44 [==============================] - 54s 1s/step - loss: 0.1265 - accuracy: 0.9501\n",
            "Epoch 10/10\n",
            "44/44 [==============================] - 54s 1s/step - loss: 0.1312 - accuracy: 0.9540\n"
          ]
        }
      ]
    },
    {
      "cell_type": "code",
      "source": [
        "loss, accuracy = classifier.evaluate(testing_dataset, steps=8)\n",
        "accuracy"
      ],
      "metadata": {
        "id": "BC5-OeZRFtre",
        "colab": {
          "base_uri": "https://localhost:8080/"
        },
        "outputId": "06e1e631-7f80-43a7-bf67-8c11ee867eb6"
      },
      "execution_count": 13,
      "outputs": [
        {
          "output_type": "stream",
          "name": "stdout",
          "text": [
            "7/8 [=========================>....] - ETA: 22s - loss: 1.7578 - accuracy: 0.7665WARNING:tensorflow:Your input ran out of data; interrupting training. Make sure that your dataset or generator can generate at least `steps_per_epoch * epochs` batches (in this case, 8 batches). You may need to use the repeat() function when building your dataset.\n",
            "8/8 [==============================] - 135s 19s/step - loss: 1.7578 - accuracy: 0.7665\n"
          ]
        },
        {
          "output_type": "execute_result",
          "data": {
            "text/plain": [
              "0.7664974331855774"
            ]
          },
          "metadata": {},
          "execution_count": 13
        }
      ]
    },
    {
      "cell_type": "markdown",
      "source": [
        "## Save Progress"
      ],
      "metadata": {
        "id": "VRLhFcQd3dBs"
      }
    },
    {
      "cell_type": "code",
      "source": [
        "# serialize model to JSON\n",
        "from keras.models import model_from_json\n",
        "model_json = classifier.to_json()\n",
        "with open(\"model.json\", \"w\") as json_file:\n",
        "    json_file.write(model_json)"
      ],
      "metadata": {
        "execution": {
          "iopub.status.busy": "2021-11-29T16:40:07.011857Z",
          "iopub.execute_input": "2021-11-29T16:40:07.012116Z",
          "iopub.status.idle": "2021-11-29T16:40:07.020973Z",
          "shell.execute_reply.started": "2021-11-29T16:40:07.012085Z",
          "shell.execute_reply": "2021-11-29T16:40:07.020233Z"
        },
        "trusted": true,
        "id": "bokk1Zyz3dBt"
      },
      "execution_count": 14,
      "outputs": []
    },
    {
      "cell_type": "code",
      "source": [
        "# serialize weights to HDF5\n",
        "classifier.save_weights(\"model.h5\")\n",
        "print(\"Saved model to disk\")"
      ],
      "metadata": {
        "execution": {
          "iopub.status.busy": "2021-11-29T16:40:19.618725Z",
          "iopub.execute_input": "2021-11-29T16:40:19.619173Z",
          "iopub.status.idle": "2021-11-29T16:40:19.644111Z",
          "shell.execute_reply.started": "2021-11-29T16:40:19.619135Z",
          "shell.execute_reply": "2021-11-29T16:40:19.643396Z"
        },
        "trusted": true,
        "id": "v6bi6Qzs3dBt",
        "colab": {
          "base_uri": "https://localhost:8080/"
        },
        "outputId": "060be9bd-2032-418d-c8c8-4c0e36340eb9"
      },
      "execution_count": 15,
      "outputs": [
        {
          "output_type": "stream",
          "name": "stdout",
          "text": [
            "Saved model to disk\n"
          ]
        }
      ]
    },
    {
      "cell_type": "markdown",
      "source": [
        "## For later use"
      ],
      "metadata": {
        "id": "aslslr3A3dBu"
      }
    },
    {
      "cell_type": "code",
      "source": [
        "'''\n",
        "# Individual predictions\n",
        "import numpy as np\n",
        "from tensorflow.keras.preprocessing import image\n",
        "test_image = image.load_img('dataset/single_prediction/OIP.jpg', target_size = (512, 512)) # Cargamos la imagen con un tamaño igual a\n",
        "                                                                                           # los anteriores\n",
        "test_image = image.img_to_array(test_image) # Convertimos la imagen en un array\n",
        "test_image = np.expand_dims(test_image, axis = 0) # Modificamos las dimensions\n",
        "result = classifier.predict(test_image) # Prediccion\n",
        "print(training_dataset.class_indices)\n",
        "print(result)\n",
        "'''"
      ],
      "metadata": {
        "id": "DJljNn_g3dBv",
        "colab": {
          "base_uri": "https://localhost:8080/",
          "height": 87
        },
        "outputId": "0ff0d256-bc22-405a-8e8a-27427875be00"
      },
      "execution_count": 16,
      "outputs": [
        {
          "output_type": "execute_result",
          "data": {
            "application/vnd.google.colaboratory.intrinsic+json": {
              "type": "string"
            },
            "text/plain": [
              "\"\\n# Individual predictions\\nimport numpy as np\\nfrom tensorflow.keras.preprocessing import image\\ntest_image = image.load_img('dataset/single_prediction/OIP.jpg', target_size = (512, 512)) # Cargamos la imagen con un tamaño igual a\\n                                                                                           # los anteriores\\ntest_image = image.img_to_array(test_image) # Convertimos la imagen en un array\\ntest_image = np.expand_dims(test_image, axis = 0) # Modificamos las dimensions\\nresult = classifier.predict(test_image) # Prediccion\\nprint(training_dataset.class_indices)\\nprint(result)\\n\""
            ]
          },
          "metadata": {},
          "execution_count": 16
        }
      ]
    }
  ]
}